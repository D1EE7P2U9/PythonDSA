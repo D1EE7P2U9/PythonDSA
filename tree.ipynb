{
 "cells": [
  {
   "cell_type": "markdown",
   "metadata": {},
   "source": [
    "Tree\n",
    "\n",
    "full, perfect , complete\n",
    "\n",
    "Binary tree & Binary Search Tree"
   ]
  },
  {
   "cell_type": "code",
   "execution_count": 1,
   "metadata": {},
   "outputs": [
    {
     "name": "stdout",
     "output_type": "stream",
     "text": [
      "tree\n"
     ]
    }
   ],
   "source": [
    "print('tree')"
   ]
  },
  {
   "cell_type": "code",
   "execution_count": 3,
   "metadata": {},
   "outputs": [
    {
     "name": "stdout",
     "output_type": "stream",
     "text": [
      "None\n"
     ]
    }
   ],
   "source": [
    "class Node:\n",
    "    def __init__(self,value):\n",
    "        self.value  = value\n",
    "        self.left = None\n",
    "        self.right = None\n",
    "\n",
    "class BinarySearchTreee:\n",
    "    def __init__(self):  #value is not passed as at the starting we are not passing any value to the tree , we are inserting during the insert method\n",
    "        # new_node = Node(value)\n",
    "        self.root = None\n",
    "\n",
    "my_tree = BinarySearchTreee()\n",
    "print(my_tree.root)  # should return None\n"
   ]
  },
  {
   "cell_type": "markdown",
   "metadata": {},
   "source": [
    "Insert\n"
   ]
  },
  {
   "cell_type": "code",
   "execution_count": 4,
   "metadata": {},
   "outputs": [
    {
     "name": "stdout",
     "output_type": "stream",
     "text": [
      "2\n",
      "1\n",
      "3\n"
     ]
    }
   ],
   "source": [
    "class Node:\n",
    "    def __init__(self,value):\n",
    "        self.value  = value\n",
    "        self.left = None\n",
    "        self.right = None\n",
    "\n",
    "class BinarySearchTreee:\n",
    "    def __init__(self):  \n",
    "        self.root = None\n",
    "\n",
    "    def insert(self,value):\n",
    "        new_node = Node(value)\n",
    "        if self.root is None:\n",
    "            self.root = new_node\n",
    "            return True\n",
    "        temp = self.root\n",
    "        while(True):\n",
    "            if new_node.value == temp.value:\n",
    "                return False\n",
    "            if new_node.value < temp.value:\n",
    "                if temp.left is None:\n",
    "                    temp.left = new_node\n",
    "                    return True\n",
    "                temp = temp.left\n",
    "            else:\n",
    "                if temp.right is None:\n",
    "                    temp.right = new_node\n",
    "                    return True\n",
    "                temp = temp.right\n",
    "\n",
    "my_tree = BinarySearchTreee()\n",
    "my_tree.insert(2)\n",
    "my_tree.insert(1)\n",
    "my_tree.insert(3)\n",
    "\n",
    "\n",
    "print(my_tree.root.value)\n",
    "print(my_tree.root.left.value)\n",
    "print(my_tree.root.right.value)\n",
    "\n"
   ]
  },
  {
   "cell_type": "markdown",
   "metadata": {},
   "source": [
    "Contains"
   ]
  },
  {
   "cell_type": "code",
   "execution_count": 6,
   "metadata": {},
   "outputs": [
    {
     "name": "stdout",
     "output_type": "stream",
     "text": [
      "True\n",
      "False\n"
     ]
    }
   ],
   "source": [
    "class Node:\n",
    "    def __init__(self,value):\n",
    "        self.value  = value\n",
    "        self.left = None\n",
    "        self.right = None\n",
    "\n",
    "class BinarySearchTreee:\n",
    "    def __init__(self):  \n",
    "        self.root = None\n",
    "\n",
    "    def insert(self,value):\n",
    "        new_node = Node(value)\n",
    "        if self.root is None:\n",
    "            self.root = new_node\n",
    "            return True\n",
    "        temp = self.root\n",
    "        while(True):\n",
    "            if new_node.value == temp.value:\n",
    "                return False\n",
    "            if new_node.value < temp.value:\n",
    "                if temp.left is None:\n",
    "                    temp.left = new_node\n",
    "                    return True\n",
    "                temp = temp.left\n",
    "            else:\n",
    "                if temp.right is None:\n",
    "                    temp.right = new_node\n",
    "                    return True\n",
    "                temp = temp.right\n",
    "\n",
    "    def contains(self,value):\n",
    "        # if self.root is None:\n",
    "        #     return False\n",
    "        temp = self.root\n",
    "        while temp is not None:\n",
    "            if value < temp.value:\n",
    "                temp = temp.left\n",
    "            elif value > temp.value:\n",
    "                temp = temp.right\n",
    "            else:\n",
    "                return True\n",
    "        return False\n",
    "        \n",
    "\n",
    "my_tree = BinarySearchTreee()\n",
    "my_tree.insert(47)\n",
    "my_tree.insert(21)\n",
    "my_tree.insert(76)\n",
    "my_tree.insert(18)\n",
    "my_tree.insert(27)\n",
    "my_tree.insert(52)\n",
    "my_tree.insert(82)\n",
    "\n",
    "print(my_tree.contains(27))\n",
    "\n",
    "print(my_tree.contains(2763))\n",
    "\n"
   ]
  },
  {
   "cell_type": "code",
   "execution_count": 8,
   "metadata": {},
   "outputs": [
    {
     "name": "stdout",
     "output_type": "stream",
     "text": [
      "<__main__.BinarySearchTreee object at 0x000001B2E4CFECD0>\n"
     ]
    }
   ],
   "source": [
    "print(my_tree)"
   ]
  },
  {
   "cell_type": "code",
   "execution_count": null,
   "metadata": {},
   "outputs": [],
   "source": []
  }
 ],
 "metadata": {
  "kernelspec": {
   "display_name": "spacy-kernel",
   "language": "python",
   "name": "spacy-kernel"
  },
  "language_info": {
   "codemirror_mode": {
    "name": "ipython",
    "version": 3
   },
   "file_extension": ".py",
   "mimetype": "text/x-python",
   "name": "python",
   "nbconvert_exporter": "python",
   "pygments_lexer": "ipython3",
   "version": "3.11.6"
  }
 },
 "nbformat": 4,
 "nbformat_minor": 2
}
