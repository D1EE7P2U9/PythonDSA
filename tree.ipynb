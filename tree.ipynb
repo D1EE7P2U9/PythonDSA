{
 "cells": [
  {
   "cell_type": "markdown",
   "metadata": {},
   "source": [
    "Tree\n",
    "\n",
    "full, perfect , complete\n",
    "\n",
    "Binary tree & Binary Search Tree"
   ]
  },
  {
   "cell_type": "code",
   "execution_count": 1,
   "metadata": {},
   "outputs": [
    {
     "name": "stdout",
     "output_type": "stream",
     "text": [
      "tree\n"
     ]
    }
   ],
   "source": [
    "print('tree')"
   ]
  },
  {
   "cell_type": "code",
   "execution_count": 3,
   "metadata": {},
   "outputs": [
    {
     "name": "stdout",
     "output_type": "stream",
     "text": [
      "None\n"
     ]
    }
   ],
   "source": [
    "class Node:\n",
    "    def __init__(self,value):\n",
    "        self.value  = value\n",
    "        self.left = None\n",
    "        self.right = None\n",
    "\n",
    "class BinarySearchTreee:\n",
    "    def __init__(self):  #value is not passed as at the starting we are not passing any value to the tree , we are inserting during the insert method\n",
    "        # new_node = Node(value)\n",
    "        self.root = None\n",
    "\n",
    "my_tree = BinarySearchTreee()\n",
    "print(my_tree.root)  # should return None\n"
   ]
  },
  {
   "cell_type": "code",
   "execution_count": null,
   "metadata": {},
   "outputs": [],
   "source": []
  }
 ],
 "metadata": {
  "kernelspec": {
   "display_name": "spacy-kernel",
   "language": "python",
   "name": "spacy-kernel"
  },
  "language_info": {
   "codemirror_mode": {
    "name": "ipython",
    "version": 3
   },
   "file_extension": ".py",
   "mimetype": "text/x-python",
   "name": "python",
   "nbconvert_exporter": "python",
   "pygments_lexer": "ipython3",
   "version": "3.11.6"
  }
 },
 "nbformat": 4,
 "nbformat_minor": 2
}
